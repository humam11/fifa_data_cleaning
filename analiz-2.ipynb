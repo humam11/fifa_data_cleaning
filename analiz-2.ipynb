{
 "cells": [
  {
   "cell_type": "code",
   "execution_count": null,
   "id": "a35809a2",
   "metadata": {},
   "outputs": [],
   "source": [
    "import pandas as pd\n",
    "import numpy as np\n",
    "import matplotlib.pyplot as plt\n",
    "import seaborn as sns\n",
    "from datetime import datetime"
   ]
  },
  {
   "cell_type": "code",
   "execution_count": null,
   "id": "c08de4f2",
   "metadata": {
    "lines_to_next_cell": 2
   },
   "outputs": [],
   "source": [
    "# Настройка для отображения русских символов\n",
    "plt.rcParams['font.family'] = ['DejaVu Sans']\n",
    "plt.rcParams['axes.unicode_minus'] = False"
   ]
  },
  {
   "cell_type": "code",
   "execution_count": null,
   "id": "68358546",
   "metadata": {
    "lines_to_next_cell": 2
   },
   "outputs": [],
   "source": [
    "print(\"исследовательский анализ данных fifa 2021\")"
   ]
  },
  {
   "cell_type": "code",
   "execution_count": null,
   "id": "68e9cbf2",
   "metadata": {},
   "outputs": [],
   "source": [
    "# Загрузка данных\n",
    "print(\"\\n1. ЗАГРУЗКА ДАННЫХ\")"
   ]
  },
  {
   "cell_type": "code",
   "execution_count": null,
   "id": "738db71f",
   "metadata": {},
   "outputs": [],
   "source": [
    "df = pd.read_csv('players_cleaned.csv')\n",
    "print(f\"Размер датасета: {df.shape}\")\n",
    "print(f\"Количество игроков: {len(df)}\")\n",
    "print(f\"Количество признаков: {len(df.columns)}\")"
   ]
  },
  {
   "cell_type": "code",
   "execution_count": null,
   "id": "b1e80845",
   "metadata": {},
   "outputs": [],
   "source": [
    "print(\"\\nПервые 5 строк датасета:\")\n",
    "print(df.head())"
   ]
  },
  {
   "cell_type": "code",
   "execution_count": null,
   "id": "be5ea3a1",
   "metadata": {},
   "outputs": [],
   "source": [
    "print(\"\\nИнформация о датасете:\")\n",
    "print(df.info())"
   ]
  },
  {
   "cell_type": "code",
   "execution_count": null,
   "id": "e760796a",
   "metadata": {},
   "outputs": [],
   "source": [
    "print(\"\\nСтатистическое описание числовых признаков:\")\n",
    "print(df.describe())"
   ]
  },
  {
   "cell_type": "code",
   "execution_count": null,
   "id": "7848211e",
   "metadata": {
    "lines_to_next_cell": 2
   },
   "outputs": [],
   "source": [
    "# 1. индексация по координаторам и логическая индексация\n",
    "print(\"\\n\")\n",
    "print(\"2. индексация по координаторам и логическая индексация\")"
   ]
  },
  {
   "cell_type": "code",
   "execution_count": null,
   "id": "b95a88b0",
   "metadata": {
    "lines_to_next_cell": 2
   },
   "outputs": [],
   "source": [
    "# индексация по координаторам (не менее 5 различных условий)\n",
    "print(\"\\n2.1. индексация по координаторам:\")"
   ]
  },
  {
   "cell_type": "code",
   "execution_count": null,
   "id": "67060e2a",
   "metadata": {},
   "outputs": [],
   "source": [
    "# 1. Выбор первых 10 игроков\n",
    "print(\"1. Первые 10 игроков:\")\n",
    "print(df.iloc[0:10, [1, 5, 6, 7, 8]])  # longname, name, age, ova, pot"
   ]
  },
  {
   "cell_type": "code",
   "execution_count": null,
   "id": "7e790a78",
   "metadata": {},
   "outputs": [],
   "source": [
    "# 2. Выбор игроков с индексами 100-110\n",
    "print(\"\\n2. Игроки с индексами 100-110:\")\n",
    "print(df.iloc[100:111, [1, 5, 6, 7, 8]])"
   ]
  },
  {
   "cell_type": "code",
   "execution_count": null,
   "id": "fc0c36d3",
   "metadata": {},
   "outputs": [],
   "source": [
    "# 3. Выбор последних 5 игроков\n",
    "print(\"\\n3. Последние 5 игроков:\")\n",
    "print(df.iloc[-5:, [1, 5, 6, 7, 8]])"
   ]
  },
  {
   "cell_type": "code",
   "execution_count": null,
   "id": "03f2956b",
   "metadata": {},
   "outputs": [],
   "source": [
    "# 4. Выбор игроков с шагом 1000 (каждый 1000-й игрок)\n",
    "print(\"\\n4. Каждый 1000-й игрок:\")\n",
    "print(df.iloc[::1000, [1, 5, 6, 7, 8]])"
   ]
  },
  {
   "cell_type": "code",
   "execution_count": null,
   "id": "95a8b256",
   "metadata": {},
   "outputs": [],
   "source": [
    "# 5. Выбор игроков с индексами 5000-5010\n",
    "print(\"\\n5. Игроки с индексами 5000-5010:\")\n",
    "print(df.iloc[5000:5011, [1, 5, 6, 7, 8]])"
   ]
  },
  {
   "cell_type": "code",
   "execution_count": null,
   "id": "0210c119",
   "metadata": {
    "lines_to_next_cell": 2
   },
   "outputs": [],
   "source": [
    "# Логическая индексация (не менее 5 различных условий)\n",
    "print(\"\\n2.2. ЛОГИЧЕСКАЯ ИНДЕКСАЦИЯ:\")"
   ]
  },
  {
   "cell_type": "code",
   "execution_count": null,
   "id": "495eb4da",
   "metadata": {},
   "outputs": [],
   "source": [
    "# 1. Игроки с общим рейтингом выше 90\n",
    "print(\"1. Игроки с общим рейтингом выше 90:\")\n",
    "high_rated = df[df['ova'] > 90]\n",
    "print(f\"Количество игроков с рейтингом > 90: {len(high_rated)}\")\n",
    "print(high_rated[['longname', 'age', 'ova', 'pot', 'nationality']].head(10))"
   ]
  },
  {
   "cell_type": "code",
   "execution_count": null,
   "id": "c424546e",
   "metadata": {},
   "outputs": [],
   "source": [
    "# 2. Игроки в возрасте до 20 лет с потенциалом выше 85\n",
    "print(\"\\n2. Молодые игроки (до 20 лет) с потенциалом выше 85:\")\n",
    "young_talents = df[(df['age'] < 20) & (df['pot'] > 85)]\n",
    "print(f\"Количество молодых талантов: {len(young_talents)}\")\n",
    "print(young_talents[['longname', 'age', 'ova', 'pot', 'nationality']].head(10))"
   ]
  },
  {
   "cell_type": "code",
   "execution_count": null,
   "id": "7b68f7ba",
   "metadata": {},
   "outputs": [],
   "source": [
    "# 3. Игроки с ростом выше 190 см и весом больше 80 кг\n",
    "print(\"\\n3. Высокие и тяжелые игроки (рост > 190 см, вес > 80 кг):\")\n",
    "tall_heavy = df[(df['height_cm'] > 190) & (df['weight_kg'] > 80)]\n",
    "print(f\"Количество высоких и тяжелых игроков: {len(tall_heavy)}\")\n",
    "print(tall_heavy[['longname', 'height_cm', 'weight_kg', 'positions_formatted']].head(10))"
   ]
  },
  {
   "cell_type": "code",
   "execution_count": null,
   "id": "674a38fd",
   "metadata": {},
   "outputs": [],
   "source": [
    "# 4. Игроки с высокой скоростью (sprint_speed > 90)\n",
    "print(\"\\n4. Быстрые игроки (sprint_speed > 90):\")\n",
    "fast_players = df[df['sprint_speed'] > 90]\n",
    "print(f\"Количество быстрых игроков: {len(fast_players)}\")\n",
    "print(fast_players[['longname', 'sprint_speed', 'acceleration', 'positions_formatted']].head(10))"
   ]
  },
  {
   "cell_type": "code",
   "execution_count": null,
   "id": "4d2782a0",
   "metadata": {},
   "outputs": [],
   "source": [
    "# 5. Игроки с высокими навыками владения мячом (dribbling > 85)\n",
    "print(\"\\n5. Игроки с высокими навыками владения мячом (dribbling > 85):\")\n",
    "skilled_players = df[df['dribbling'] > 85]\n",
    "print(f\"Количество техничных игроков: {len(skilled_players)}\")\n",
    "print(skilled_players[['longname', 'dribbling', 'ball_control', 'positions_formatted']].head(10))"
   ]
  },
  {
   "cell_type": "code",
   "execution_count": null,
   "id": "5f5ded4b",
   "metadata": {
    "lines_to_next_cell": 2
   },
   "outputs": [],
   "source": [
    "# 2. СОРТИРОВКА ДАННЫХ\n",
    "print(\"\\n\")\n",
    "print(\"3. СОРТИРОВКА ДАННЫХ\")"
   ]
  },
  {
   "cell_type": "code",
   "execution_count": null,
   "id": "dbf0be3e",
   "metadata": {},
   "outputs": [],
   "source": [
    "# Сортировка по различным столбцам\n",
    "print(\"\\n3.1. Топ-10 игроков по общему рейтингу:\")\n",
    "top_rated = df.sort_values('ova', ascending=False).head(10)\n",
    "print(top_rated[['longname', 'age', 'ova', 'pot', 'nationality']])"
   ]
  },
  {
   "cell_type": "code",
   "execution_count": null,
   "id": "41d280b7",
   "metadata": {},
   "outputs": [],
   "source": [
    "print(\"\\n3.2. Топ-10 молодых игроков по потенциалу:\")\n",
    "young_potential = df.sort_values('pot', ascending=False).head(10)\n",
    "print(young_potential[['longname', 'age', 'ova', 'pot', 'nationality']])"
   ]
  },
  {
   "cell_type": "code",
   "execution_count": null,
   "id": "d5889b81",
   "metadata": {},
   "outputs": [],
   "source": [
    "print(\"\\n3.3. Самые высокие игроки:\")\n",
    "tallest = df.sort_values('height_cm', ascending=False).head(10)\n",
    "print(tallest[['longname', 'height_cm', 'weight_kg', 'positions_formatted']])"
   ]
  },
  {
   "cell_type": "code",
   "execution_count": null,
   "id": "dbe8f342",
   "metadata": {},
   "outputs": [],
   "source": [
    "print(\"\\n3.4. Самые быстрые игроки:\")\n",
    "fastest = df.sort_values('sprint_speed', ascending=False).head(10)\n",
    "print(fastest[['longname', 'sprint_speed', 'acceleration', 'positions_formatted']])"
   ]
  },
  {
   "cell_type": "code",
   "execution_count": null,
   "id": "5e78e1ec",
   "metadata": {},
   "outputs": [],
   "source": [
    "print(\"\\n3.5. Самые техничные игроки:\")\n",
    "most_skilled = df.sort_values('dribbling', ascending=False).head(10)\n",
    "print(most_skilled[['longname', 'dribbling', 'ball_control', 'positions_formatted']])"
   ]
  },
  {
   "cell_type": "code",
   "execution_count": null,
   "id": "5e8a08b9",
   "metadata": {
    "lines_to_next_cell": 2
   },
   "outputs": [],
   "source": [
    "# Анализ наибольших и наименьших значений\n",
    "print(\"\\n3.6. АНАЛИЗ ЭКСТРЕМАЛЬНЫХ ЗНАЧЕНИЙ:\")"
   ]
  },
  {
   "cell_type": "code",
   "execution_count": null,
   "id": "cba80c21",
   "metadata": {},
   "outputs": [],
   "source": [
    "print(f\"Максимальный общий рейтинг: {df['ova'].max()}\")\n",
    "print(f\"Минимальный общий рейтинг: {df['ova'].min()}\")\n",
    "print(f\"Средний общий рейтинг: {df['ova'].mean():.2f}\")"
   ]
  },
  {
   "cell_type": "code",
   "execution_count": null,
   "id": "8eee84b4",
   "metadata": {},
   "outputs": [],
   "source": [
    "print(f\"\\nМаксимальный возраст: {df['age'].max()}\")\n",
    "print(f\"Минимальный возраст: {df['age'].min()}\")\n",
    "print(f\"Средний возраст: {df['age'].mean():.2f}\")"
   ]
  },
  {
   "cell_type": "code",
   "execution_count": null,
   "id": "8b9084bb",
   "metadata": {},
   "outputs": [],
   "source": [
    "print(f\"\\nМаксимальный рост: {df['height_cm'].max():.2f} см\")\n",
    "print(f\"Минимальный рост: {df['height_cm'].min():.2f} см\")\n",
    "print(f\"Средний рост: {df['height_cm'].mean():.2f} см\")"
   ]
  },
  {
   "cell_type": "code",
   "execution_count": null,
   "id": "02b2b770",
   "metadata": {
    "lines_to_next_cell": 2
   },
   "outputs": [],
   "source": [
    "# 3. фильтрация данных\n",
    "print(\"\\n\")\n",
    "print(\"4. фильтрация данных\")"
   ]
  },
  {
   "cell_type": "code",
   "execution_count": null,
   "id": "7e0e8a21",
   "metadata": {
    "lines_to_next_cell": 2
   },
   "outputs": [],
   "source": [
    "# фильтрация с помощью метода query (не менее 5 различных фильтров)\n",
    "print(\"\\n4.1. фильтрация с помощью метода query:\")"
   ]
  },
  {
   "cell_type": "code",
   "execution_count": null,
   "id": "787428f5",
   "metadata": {},
   "outputs": [],
   "source": [
    "# 1. Игроки из топ-5 стран\n",
    "print(\"1. Игроки из топ-5 стран по количеству игроков:\")\n",
    "top_countries = df['nationality'].value_counts().head(5).index.tolist()\n",
    "top_countries_players = df.query('nationality in @top_countries')\n",
    "print(f\"Количество игроков из топ-5 стран: {len(top_countries_players)}\")\n",
    "print(top_countries_players[['longname', 'nationality', 'ova']].head(10))"
   ]
  },
  {
   "cell_type": "code",
   "execution_count": null,
   "id": "6064da1e",
   "metadata": {},
   "outputs": [],
   "source": [
    "# 2. Игроки с высокими физическими показателями\n",
    "print(\"\\n2. Игроки с высокими физическими показателями (stamina > 80 и strength > 80):\")\n",
    "physical_players = df.query('stamina > 80 and strength > 80')\n",
    "print(f\"Количество физически сильных игроков: {len(physical_players)}\")\n",
    "print(physical_players[['longname', 'stamina', 'strength', 'positions_formatted']].head(10))"
   ]
  },
  {
   "cell_type": "code",
   "execution_count": null,
   "id": "15eba00a",
   "metadata": {},
   "outputs": [],
   "source": [
    "# 3. Игроки с высокими навыками удара\n",
    "print(\"\\n3. Игроки с высокими навыками удара (shot_power > 85 и finishing > 85):\")\n",
    "shooting_players = df.query('shot_power > 85 and finishing > 85')\n",
    "print(f\"Количество игроков с высокими навыками удара: {len(shooting_players)}\")\n",
    "print(shooting_players[['longname', 'shot_power', 'finishing', 'positions_formatted']].head(10))"
   ]
  },
  {
   "cell_type": "code",
   "execution_count": null,
   "id": "bfe8c82b",
   "metadata": {},
   "outputs": [],
   "source": [
    "# 4. Игроки с высокими защитными навыками\n",
    "print(\"\\n4. Игроки с высокими защитными навыками (marking > 80 and standing_tackle > 80):\")\n",
    "defensive_players = df.query('marking > 80 and standing_tackle > 80')\n",
    "print(f\"Количество защитников с высокими навыками: {len(defensive_players)}\")\n",
    "print(defensive_players[['longname', 'marking', 'standing_tackle', 'positions_formatted']].head(10))"
   ]
  },
  {
   "cell_type": "code",
   "execution_count": null,
   "id": "c5e51d6b",
   "metadata": {},
   "outputs": [],
   "source": [
    "# 5. Игроки с высокими навыками передачи\n",
    "print(\"\\n5. Игроки с высокими навыками передачи (short_passing > 85 and vision > 85):\")\n",
    "passing_players = df.query('short_passing > 85 and vision > 85')\n",
    "print(f\"Количество игроков с высокими навыками передачи: {len(passing_players)}\")\n",
    "print(passing_players[['longname', 'short_passing', 'vision', 'positions_formatted']].head(10))"
   ]
  },
  {
   "cell_type": "code",
   "execution_count": null,
   "id": "b99c7067",
   "metadata": {
    "lines_to_next_cell": 2
   },
   "outputs": [],
   "source": [
    "# фильтрация с помощью оператора where (не менее 5 различных фильтров)\n",
    "print(\"\\n4.2. фильтрация с помощью оператора where:\")"
   ]
  },
  {
   "cell_type": "code",
   "execution_count": null,
   "id": "5b4ca576",
   "metadata": {},
   "outputs": [],
   "source": [
    "# 1. Игроки с высоким рейтингом и молодым возрастом\n",
    "print(\"1. Игроки с рейтингом > 80 и возрастом < 25:\")\n",
    "young_stars = df.where((df['ova'] > 80) & (df['age'] < 25)).dropna()\n",
    "print(f\"Количество молодых звезд: {len(young_stars)}\")\n",
    "print(young_stars[['longname', 'age', 'ova', 'pot', 'nationality']].head(10))"
   ]
  },
  {
   "cell_type": "code",
   "execution_count": null,
   "id": "baed9cf7",
   "metadata": {},
   "outputs": [],
   "source": [
    "# 2. Игроки с высокими навыками вратаря\n",
    "print(\"\\n2. Игроки с высокими навыками вратаря (gk_diving > 70 and gk_handling > 70):\")\n",
    "good_goalkeepers = df.where((df['gk_diving'] > 70) & (df['gk_handling'] > 70)).dropna()\n",
    "print(f\"Количество хороших вратарей: {len(good_goalkeepers)}\")\n",
    "print(good_goalkeepers[['longname', 'gk_diving', 'gk_handling', 'gk_reflexes']].head(10))"
   ]
  },
  {
   "cell_type": "code",
   "execution_count": null,
   "id": "94a31b61",
   "metadata": {},
   "outputs": [],
   "source": [
    "# 3. Игроки с высокими ментальными качествами\n",
    "print(\"\\n3. Игроки с высокими ментальными качествами (composure > 75 and positioning > 75):\")\n",
    "mental_players = df.where((df['composure'] > 75) & (df['positioning'] > 75)).dropna()\n",
    "print(f\"Количество игроков с высокими ментальными качествами: {len(mental_players)}\")\n",
    "print(mental_players[['longname', 'composure', 'positioning', 'positions_formatted']].head(10))"
   ]
  },
  {
   "cell_type": "code",
   "execution_count": null,
   "id": "d0d8258f",
   "metadata": {},
   "outputs": [],
   "source": [
    "# 4. Игроки с высокими навыками контроля мяча\n",
    "print(\"\\n4. Игроки с высокими навыками контроля мяча (ball_control > 75 and dribbling > 75):\")\n",
    "control_players = df.where((df['ball_control'] > 75) & (df['dribbling'] > 75)).dropna()\n",
    "print(f\"Количество игроков с высоким контролем мяча: {len(control_players)}\")\n",
    "print(control_players[['longname', 'ball_control', 'dribbling', 'positions_formatted']].head(10))"
   ]
  },
  {
   "cell_type": "code",
   "execution_count": null,
   "id": "99ed3546",
   "metadata": {},
   "outputs": [],
   "source": [
    "# 5. Игроки с высокими навыками удара головой\n",
    "print(\"\\n5. Игроки с высокими навыками удара головой (heading_accuracy > 75 and jumping > 75):\")\n",
    "heading_players = df.where((df['heading_accuracy'] > 75) & (df['jumping'] > 75)).dropna()\n",
    "print(f\"Количество игроков с высокими навыками удара головой: {len(heading_players)}\")\n",
    "print(heading_players[['longname', 'heading_accuracy', 'jumping', 'positions_formatted']].head(10))"
   ]
  },
  {
   "cell_type": "code",
   "execution_count": null,
   "id": "92c9e6d1",
   "metadata": {
    "lines_to_next_cell": 2
   },
   "outputs": [],
   "source": [
    "# 4. СВОДНЫЕ ТАБЛИЦЫ\n",
    "print(\"\\n\")\n",
    "print(\"5. СВОДНЫЕ ТАБЛИЦЫ\")"
   ]
  },
  {
   "cell_type": "code",
   "execution_count": null,
   "id": "6fe89edd",
   "metadata": {},
   "outputs": [],
   "source": [
    "print(\"\\n5.1. СВОДНАЯ ТАБЛИЦА 1: Средний рейтинг по национальностям (топ-10):\")\n",
    "print(\"-\" * 70)\n",
    "pivot1 = df.pivot_table(\n",
    "    values='ova',\n",
    "    index='nationality',\n",
    "    aggfunc=['mean', 'count', 'max']\n",
    ").round(2)\n",
    "pivot1.columns = ['Средний рейтинг', 'Количество игроков', 'Максимальный рейтинг']\n",
    "pivot1 = pivot1.sort_values('Средний рейтинг', ascending=False).head(10)\n",
    "print(pivot1)"
   ]
  },
  {
   "cell_type": "code",
   "execution_count": null,
   "id": "3dd326ce",
   "metadata": {},
   "outputs": [],
   "source": [
    "print(\"\\n5.2. СВОДНАЯ ТАБЛИЦА 2: Средние показатели по позициям:\")\n",
    "print(\"-\" * 70)\n",
    "pivot2 = df.pivot_table(\n",
    "    values=['ova', 'age', 'height_cm', 'weight_kg'],\n",
    "    index='positions_formatted',\n",
    "    aggfunc='mean'\n",
    ").round(2)\n",
    "pivot2.columns = ['Средний рейтинг', 'Средний возраст', 'Средний рост (см)', 'Средний вес (кг)']\n",
    "print(pivot2)"
   ]
  },
  {
   "cell_type": "code",
   "execution_count": null,
   "id": "3c7f192f",
   "metadata": {},
   "outputs": [],
   "source": [
    "print(\"\\n5.3. СВОДНАЯ ТАБЛИЦА 3: Распределение игроков по возрастным группам и рейтингу:\")\n",
    "print(\"-\" * 70)\n",
    "# Создаем возрастные группы\n",
    "df['age_group'] = pd.cut(df['age'], bins=[0, 20, 25, 30, 35, 100], \n",
    "                        labels=['До 20', '20-25', '25-30', '30-35', '35+'])\n",
    "pivot3 = df.pivot_table(\n",
    "    values='ova',\n",
    "    index='age_group',\n",
    "    columns=pd.cut(df['ova'], bins=[0, 70, 80, 85, 90, 100], \n",
    "                  labels=['До 70', '70-80', '80-85', '85-90', '90+']),\n",
    "    aggfunc='count',\n",
    "    fill_value=0\n",
    ")\n",
    "pivot3.columns.name = 'Рейтинг'\n",
    "pivot3.index.name = 'Возрастная группа'\n",
    "print(pivot3)"
   ]
  },
  {
   "cell_type": "code",
   "execution_count": null,
   "id": "7ec62ff0",
   "metadata": {
    "lines_to_next_cell": 2
   },
   "outputs": [],
   "source": [
    "# 5. группировка данных и агрегатные функции\n",
    "print(\"\\n\")\n",
    "print(\"6. группировка данных и агрегатные функции\")"
   ]
  },
  {
   "cell_type": "code",
   "execution_count": null,
   "id": "616452b8",
   "metadata": {},
   "outputs": [],
   "source": [
    "print(\"\\n6.1. группировка по национальностям:\")"
   ]
  },
  {
   "cell_type": "code",
   "execution_count": null,
   "id": "bc9c2448",
   "metadata": {},
   "outputs": [],
   "source": [
    "nationality_stats = df.groupby('nationality').agg({\n",
    "    'ova': ['mean', 'max', 'min', 'count'],\n",
    "    'age': ['mean', 'min', 'max'],\n",
    "    'height_cm': ['mean', 'min', 'max'],\n",
    "    'weight_kg': ['mean', 'min', 'max']\n",
    "}).round(2)"
   ]
  },
  {
   "cell_type": "code",
   "execution_count": null,
   "id": "b00f9a2e",
   "metadata": {},
   "outputs": [],
   "source": [
    "nationality_stats.columns = [\n",
    "    'Средний рейтинг', 'Макс рейтинг', 'Мин рейтинг', 'Количество игроков',\n",
    "    'Средний возраст', 'Мин возраст', 'Макс возраст',\n",
    "    'Средний рост', 'Мин рост', 'Макс рост',\n",
    "    'Средний вес', 'Мин вес', 'Макс вес'\n",
    "]"
   ]
  },
  {
   "cell_type": "code",
   "execution_count": null,
   "id": "3a57ceee",
   "metadata": {},
   "outputs": [],
   "source": [
    "print(\"Топ-10 стран по среднему рейтингу:\")\n",
    "print(nationality_stats.sort_values('Средний рейтинг', ascending=False).head(10))"
   ]
  },
  {
   "cell_type": "code",
   "execution_count": null,
   "id": "cdc82f26",
   "metadata": {},
   "outputs": [],
   "source": [
    "print(\"\\n6.2. ГРУППИРОВКА ПО ПОЗИЦИЯМ:\")"
   ]
  },
  {
   "cell_type": "code",
   "execution_count": null,
   "id": "d1eab763",
   "metadata": {},
   "outputs": [],
   "source": [
    "position_stats = df.groupby('positions_formatted').agg({\n",
    "    'ova': ['mean', 'max', 'min', 'count'],\n",
    "    'age': ['mean', 'min', 'max'],\n",
    "    'height_cm': ['mean', 'min', 'max'],\n",
    "    'weight_kg': ['mean', 'min', 'max'],\n",
    "    'sprint_speed': ['mean', 'max'],\n",
    "    'dribbling': ['mean', 'max'],\n",
    "    'shot_power': ['mean', 'max'],\n",
    "    'short_passing': ['mean', 'max'],\n",
    "    'marking': ['mean', 'max'],\n",
    "    'stamina': ['mean', 'max']\n",
    "}).round(2)"
   ]
  },
  {
   "cell_type": "code",
   "execution_count": null,
   "id": "b6ff218a",
   "metadata": {},
   "outputs": [],
   "source": [
    "position_stats.columns = [\n",
    "    'Средний рейтинг', 'Макс рейтинг', 'Мин рейтинг', 'Количество игроков',\n",
    "    'Средний возраст', 'Мин возраст', 'Макс возраст',\n",
    "    'Средний рост', 'Мин рост', 'Макс рост',\n",
    "    'Средний вес', 'Мин вес', 'Макс вес',\n",
    "    'Средняя скорость', 'Макс скорость',\n",
    "    'Среднее владение', 'Макс владение',\n",
    "    'Средняя сила удара', 'Макс сила удара',\n",
    "    'Средняя передача', 'Макс передача',\n",
    "    'Средняя опека', 'Макс опека',\n",
    "    'Средняя выносливость', 'Макс выносливость'\n",
    "]"
   ]
  },
  {
   "cell_type": "code",
   "execution_count": null,
   "id": "9f993c2c",
   "metadata": {},
   "outputs": [],
   "source": [
    "print(position_stats)"
   ]
  },
  {
   "cell_type": "code",
   "execution_count": null,
   "id": "7658a8cf",
   "metadata": {},
   "outputs": [],
   "source": [
    "print(\"\\n6.3. ГРУППИРОВКА ПО ВОЗРАСТНЫМ ГРУППАМ:\")"
   ]
  },
  {
   "cell_type": "code",
   "execution_count": null,
   "id": "0508179d",
   "metadata": {},
   "outputs": [],
   "source": [
    "age_group_stats = df.groupby('age_group').agg({\n",
    "    'ova': ['mean', 'max', 'min', 'count'],\n",
    "    'pot': ['mean', 'max', 'min'],\n",
    "    'height_cm': ['mean', 'min', 'max'],\n",
    "    'weight_kg': ['mean', 'min', 'max']\n",
    "}).round(2)"
   ]
  },
  {
   "cell_type": "code",
   "execution_count": null,
   "id": "43fa8847",
   "metadata": {},
   "outputs": [],
   "source": [
    "age_group_stats.columns = [\n",
    "    'Средний рейтинг', 'Макс рейтинг', 'Мин рейтинг', 'Количество игроков',\n",
    "    'Средний потенциал', 'Макс потенциал', 'Мин потенциал',\n",
    "    'Средний рост', 'Мин рост', 'Макс рост',\n",
    "    'Средний вес', 'Мин вес', 'Макс вес'\n",
    "]"
   ]
  },
  {
   "cell_type": "code",
   "execution_count": null,
   "id": "386f166b",
   "metadata": {},
   "outputs": [],
   "source": [
    "print(age_group_stats)"
   ]
  },
  {
   "cell_type": "code",
   "execution_count": null,
   "id": "dc1abe98",
   "metadata": {
    "lines_to_next_cell": 2
   },
   "outputs": [],
   "source": [
    "# 6. исследовательский анализ данных\n",
    "print(\"\\n\")\n",
    "print(\"7. исследовательский анализ данных\")"
   ]
  },
  {
   "cell_type": "code",
   "execution_count": null,
   "id": "8676efcb",
   "metadata": {},
   "outputs": [],
   "source": [
    "print(\"\\n7.1. корреляционный анализ:\")"
   ]
  },
  {
   "cell_type": "code",
   "execution_count": null,
   "id": "c95dd2e3",
   "metadata": {},
   "outputs": [],
   "source": [
    "# Выбираем числовые колонки для корреляционного анализа\n",
    "numeric_columns = [\n",
    "    'ova', 'pot', 'age', 'height_cm', 'weight_kg',\n",
    "    'sprint_speed', 'acceleration', 'agility', 'reactions', 'balance',\n",
    "    'shot_power', 'finishing', 'short_passing', 'ball_control', 'dribbling',\n",
    "    'stamina', 'strength', 'marking', 'standing_tackle', 'jumping',\n",
    "    'vision', 'composure', 'heading_accuracy'\n",
    "]\n",
    "numeric_columns = [col for col in numeric_columns if col in df.columns]\n",
    "correlation_matrix = df[numeric_columns].corr()\n",
    "print(\"Корреляционная матрица (топ-5 корреляций с общим рейтингом):\")\n",
    "ova_correlations = correlation_matrix['ova'].sort_values(ascending=False)\n",
    "print(ova_correlations.head(6))  # Включая саму переменную"
   ]
  },
  {
   "cell_type": "code",
   "execution_count": null,
   "id": "e33faad8",
   "metadata": {},
   "outputs": [],
   "source": [
    "print(\"\\n7.2. анализ распределения рейтингов:\")"
   ]
  },
  {
   "cell_type": "code",
   "execution_count": null,
   "id": "88bca0c0",
   "metadata": {},
   "outputs": [],
   "source": [
    "print(f\"Распределение игроков по рейтингу:\")\n",
    "print(f\"90+: {len(df[df['ova'] >= 90])} игроков\")\n",
    "print(f\"85-89: {len(df[(df['ova'] >= 85) & (df['ova'] < 90)])} игроков\")\n",
    "print(f\"80-84: {len(df[(df['ova'] >= 80) & (df['ova'] < 85)])} игроков\")\n",
    "print(f\"75-79: {len(df[(df['ova'] >= 75) & (df['ova'] < 80)])} игроков\")\n",
    "print(f\"70-74: {len(df[(df['ova'] >= 70) & (df['ova'] < 75)])} игроков\")\n",
    "print(f\"До 70: {len(df[df['ova'] < 70])} игроков\")"
   ]
  },
  {
   "cell_type": "code",
   "execution_count": null,
   "id": "52cc590d",
   "metadata": {},
   "outputs": [],
   "source": [
    "print(\"\\n7.3. АНАЛИЗ ВОЗРАСТНОГО РАСПРЕДЕЛЕНИЯ:\")"
   ]
  },
  {
   "cell_type": "code",
   "execution_count": null,
   "id": "c376e7c2",
   "metadata": {},
   "outputs": [],
   "source": [
    "age_distribution = df['age'].value_counts().sort_index()\n",
    "print(\"Распределение игроков по возрасту (топ-10 возрастов):\")\n",
    "print(age_distribution.head(10))"
   ]
  },
  {
   "cell_type": "code",
   "execution_count": null,
   "id": "158a5bc7",
   "metadata": {},
   "outputs": [],
   "source": [
    "print(\"\\n7.4. АНАЛИЗ ПОЗИЦИЙ:\")"
   ]
  },
  {
   "cell_type": "code",
   "execution_count": null,
   "id": "9f0df5ab",
   "metadata": {},
   "outputs": [],
   "source": [
    "position_counts = df['positions_formatted'].value_counts()\n",
    "print(\"Распределение игроков по позициям:\")\n",
    "print(position_counts)"
   ]
  },
  {
   "cell_type": "code",
   "execution_count": null,
   "id": "ae13d742",
   "metadata": {},
   "outputs": [],
   "source": [
    "print(\"\\n7.5. АНАЛИЗ НАЦИОНАЛЬНОСТЕЙ:\")"
   ]
  },
  {
   "cell_type": "code",
   "execution_count": null,
   "id": "37166b93",
   "metadata": {},
   "outputs": [],
   "source": [
    "nationality_counts = df['nationality'].value_counts()\n",
    "print(\"Топ-15 стран по количеству игроков:\")\n",
    "print(nationality_counts.head(15))"
   ]
  },
  {
   "cell_type": "code",
   "execution_count": null,
   "id": "d17bdf48",
   "metadata": {},
   "outputs": [],
   "source": [
    "print(\"\\n7.6. АНАЛИЗ ФИЗИЧЕСКИХ ХАРАКТЕРИСТИК:\")"
   ]
  },
  {
   "cell_type": "code",
   "execution_count": null,
   "id": "6946cb4a",
   "metadata": {},
   "outputs": [],
   "source": [
    "print(f\"Средний рост игроков: {df['height_cm'].mean():.2f} см\")\n",
    "print(f\"Средний вес игроков: {df['weight_kg'].mean():.2f} кг\")\n",
    "print(f\"Средний ИМТ игроков: {(df['weight_kg'] / ((df['height_cm']/100)**2)).mean():.2f}\")"
   ]
  },
  {
   "cell_type": "code",
   "execution_count": null,
   "id": "01807c7c",
   "metadata": {},
   "outputs": [],
   "source": [
    "print(\"\\n7.7. АНАЛИЗ НАВЫКОВ:\")"
   ]
  },
  {
   "cell_type": "code",
   "execution_count": null,
   "id": "4d9afa3a",
   "metadata": {},
   "outputs": [],
   "source": [
    "skills = [\n",
    "    'sprint_speed', 'dribbling', 'shot_power', 'short_passing', 'stamina',\n",
    "    'strength', 'marking', 'finishing', 'ball_control', 'acceleration',\n",
    "    'agility', 'reactions', 'vision', 'composure', 'heading_accuracy'\n",
    "]\n",
    "skills = [col for col in skills if col in df.columns]\n",
    "skill_means = df[skills].mean().sort_values(ascending=False)\n",
    "print(\"Средние значения навыков:\")\n",
    "for skill, mean_value in skill_means.items():\n",
    "    print(f\"{skill}: {mean_value:.2f}\")"
   ]
  },
  {
   "cell_type": "code",
   "execution_count": null,
   "id": "6445247f",
   "metadata": {},
   "outputs": [],
   "source": [
    "print(\"\\n7.8. АНАЛИЗ ПОТЕНЦИАЛА:\")"
   ]
  },
  {
   "cell_type": "code",
   "execution_count": null,
   "id": "ace517b6",
   "metadata": {},
   "outputs": [],
   "source": [
    "df['potential_growth'] = df['pot'] - df['ova']\n",
    "print(f\"Средний рост потенциала: {df['potential_growth'].mean():.2f}\")\n",
    "print(f\"Максимальный рост потенциала: {df['potential_growth'].max():.2f}\")\n",
    "print(f\"Игроки с наибольшим потенциалом роста:\")\n",
    "growth_players = df.nlargest(10, 'potential_growth')\n",
    "print(growth_players[['longname', 'age', 'ova', 'pot', 'nationality', 'potential_growth']])"
   ]
  },
  {
   "cell_type": "code",
   "execution_count": null,
   "id": "43b3248f",
   "metadata": {
    "lines_to_next_cell": 2
   },
   "outputs": [],
   "source": [
    "# 7. промежуточные выводы\n",
    "print(\"\\n\")\n",
    "print(\"8. промежуточные выводы\")"
   ]
  },
  {
   "cell_type": "code",
   "execution_count": null,
   "id": "32b0f0c1",
   "metadata": {
    "lines_to_next_cell": 2
   },
   "outputs": [],
   "source": [
    "print(\"\\nвыводы о проделанной работе:\")"
   ]
  },
  {
   "cell_type": "code",
   "execution_count": null,
   "id": "f10a30eb",
   "metadata": {},
   "outputs": [],
   "source": [
    "print(\"1. СТРУКТУРА ДАННЫХ:\")\n",
    "print(\"   - Датасет содержит информацию о футболистах FIFA 2021\")\n",
    "print(f\"   - Общее количество игроков: {len(df)}\")\n",
    "print(f\"   - Количество признаков: {len(df.columns)}\")\n",
    "print(\"   - Данные включают физические характеристики, навыки, рейтинги и личную информацию\")"
   ]
  },
  {
   "cell_type": "code",
   "execution_count": null,
   "id": "79833988",
   "metadata": {},
   "outputs": [],
   "source": [
    "print(\"\\n2. КАЧЕСТВО ДАННЫХ:\")\n",
    "print(\"   - Данные хорошо структурированы и готовы к анализу\")\n",
    "print(\"   - Отсутствуют значительные пропуски в ключевых признаках\")\n",
    "print(\"   - Разнообразие национальностей и позиций обеспечивает репрезентативность\")"
   ]
  },
  {
   "cell_type": "code",
   "execution_count": null,
   "id": "02b2396e",
   "metadata": {},
   "outputs": [],
   "source": [
    "print(\"\\n3. КЛЮЧЕВЫЕ ЗАКОНОМЕРНОСТИ:\")\n",
    "print(\"   - Наиболее высокий средний рейтинг у игроков из топ-футбольных стран\")\n",
    "print(\"   - Молодые игроки (до 20 лет) имеют высокий потенциал роста\")\n",
    "print(\"   - Физические характеристики коррелируют с позициями игроков\")\n",
    "print(\"   - Навыки игроков распределены неравномерно по позициям\")"
   ]
  },
  {
   "cell_type": "code",
   "execution_count": null,
   "id": "dd1f1a24",
   "metadata": {},
   "outputs": [],
   "source": [
    "print(\"\\n4. БИЗНЕС-ИНСАЙТЫ:\")\n",
    "print(\"   - Выявлены перспективные молодые игроки для скаутинга\")\n",
    "print(\"   - Определены ключевые характеристики для каждой позиции\")\n",
    "print(\"   - Установлены корреляции между различными навыками\")\n",
    "print(\"   - Выявлены национальные особенности в развитии игроков\")"
   ]
  },
  {
   "cell_type": "code",
   "execution_count": null,
   "id": "814d61d1",
   "metadata": {},
   "outputs": [],
   "source": [
    "print(\"\\n5. РЕКОМЕНДАЦИИ:\")\n",
    "print(\"   - Фокус на молодых игроках с высоким потенциалом\")\n",
    "print(\"   - Учет физических характеристик при подборе игроков\")\n",
    "print(\"   - Анализ национальных школ для понимания стилей игры\")\n",
    "print(\"   - Мониторинг развития навыков по возрастным группам\")"
   ]
  },
  {
   "cell_type": "code",
   "execution_count": null,
   "id": "2b2ff985",
   "metadata": {
    "lines_to_next_cell": 2
   },
   "outputs": [],
   "source": [
    "print(\"\\n\")\n",
    "print(\"АНАЛИЗ ЗАВЕРШЕН\")"
   ]
  }
 ],
 "metadata": {
  "jupytext": {
   "cell_metadata_filter": "-all",
   "main_language": "python",
   "notebook_metadata_filter": "-all"
  }
 },
 "nbformat": 4,
 "nbformat_minor": 5
}
