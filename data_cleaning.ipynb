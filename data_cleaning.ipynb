{
 "cells": [
  {
   "cell_type": "code",
   "execution_count": null,
   "id": "a290cc1f",
   "metadata": {},
   "outputs": [],
   "source": [
    "# улучшенная очистка данных fifa игроков\n",
    "import pandas as pd\n",
    "import numpy as np\n",
    "import warnings\n",
    "warnings.filterwarnings('ignore')"
   ]
  },
  {
   "cell_type": "code",
   "execution_count": null,
   "id": "05960c30",
   "metadata": {},
   "outputs": [],
   "source": [
    "pd.set_option('display.max_columns', None)\n",
    "pd.set_option('display.width', None)\n",
    "pd.set_option('display.max_colwidth', None)"
   ]
  },
  {
   "cell_type": "code",
   "execution_count": null,
   "id": "4f159098",
   "metadata": {},
   "outputs": [],
   "source": [
    "try:\n",
    "    df = pd.read_csv('players.csv', encoding='utf-8')\n",
    "except Exception as e:\n",
    "    print(f'Ошибка при загрузке файла: {e}')\n",
    "    sys.exit(1)"
   ]
  },
  {
   "cell_type": "code",
   "execution_count": null,
   "id": "ca9ddc76",
   "metadata": {},
   "outputs": [],
   "source": [
    "# удалить лишние символы\n",
    "df.columns = (df.columns\n",
    "              .str.lower()\n",
    "              .str.replace(' ', '_')\n",
    "              .str.replace('-', '_')\n",
    "              .str.replace('&', 'and')\n",
    "              .str.replace('↓', '')\n",
    "              .str.replace('/', '_')\n",
    "              .str.replace('(', '')\n",
    "              .str.replace(')', '')\n",
    "              .str.strip('_'))"
   ]
  },
  {
   "cell_type": "code",
   "execution_count": null,
   "id": "43db3a1b",
   "metadata": {},
   "outputs": [],
   "source": [
    "print(\"\\nНазвания столбцов после приведения к змеиному регистру:\")\n",
    "print(df.columns.tolist())"
   ]
  },
  {
   "cell_type": "code",
   "execution_count": null,
   "id": "f726c22a",
   "metadata": {},
   "outputs": [],
   "source": [
    "# привести текстовые данные к нижнему регистру (кроме имен игроков)\n",
    "text_columns = df.select_dtypes(include=['object']).columns\n",
    "for col in text_columns:\n",
    "    if col not in ['id', 'playerurl', 'photourl', 'name', 'full_name']:\n",
    "        df[col] = df[col].astype(str).str.lower().str.strip()"
   ]
  },
  {
   "cell_type": "code",
   "execution_count": null,
   "id": "a8cb2d5f",
   "metadata": {},
   "outputs": [],
   "source": [
    "print(\"\\nТекстовые данные приведены к нижнему регистру (кроме имен игроков)\")"
   ]
  },
  {
   "cell_type": "code",
   "execution_count": null,
   "id": "b0924029",
   "metadata": {},
   "outputs": [],
   "source": [
    "# разделить столбец team_and_contract на части\n",
    "if 'team_and_contract' in df.columns:\n",
    "    print(\"\\nРазделение столбца team_and_contract на название клуба, год начала и год окончания...\")\n",
    "    \n",
    "    def split_team_contract(value):\n",
    "\n",
    "        if pd.isna(value) or value == 'nan':\n",
    "            return pd.Series([np.nan, np.nan, np.nan])\n",
    "        \n",
    "        value = str(value).strip()\n",
    "        lines = value.split('\\n')\n",
    "        \n",
    "        if len(lines) >= 2:\n",
    "            team = lines[0].strip()\n",
    "            contract = lines[1].strip()\n",
    "            \n",
    "            if '~' in contract:\n",
    "                years = contract.split('~')\n",
    "                if len(years) == 2:\n",
    "                    start_year = years[0].strip()\n",
    "                    end_year = years[1].strip()\n",
    "                    try:\n",
    "                        start_year = int(start_year)\n",
    "                        end_year = int(end_year)\n",
    "                    except ValueError:\n",
    "                        start_year = np.nan\n",
    "                        end_year = np.nan\n",
    "                    return pd.Series([team, start_year, end_year])\n",
    "            \n",
    "            return pd.Series([team, np.nan, np.nan])\n",
    "        else:\n",
    "            return pd.Series([value, np.nan, np.nan])\n",
    "    \n",
    "    df[['club_name', 'contract_start_year', 'contract_end_year']] = df['team_and_contract'].apply(split_team_contract)\n",
    "    df = df.drop('team_and_contract', axis=1)\n",
    "    print(\"Столбец team_and_contract разделен на club_name, contract_start_year, contract_end_year\")"
   ]
  },
  {
   "cell_type": "code",
   "execution_count": null,
   "id": "9b9cf063",
   "metadata": {},
   "outputs": [],
   "source": [
    "# обработать позиции игроков\n",
    "if 'positions' in df.columns:\n",
    "    print(\"\\nОбработка позиций игроков...\")\n",
    "    \n",
    "    positions_split = df['positions'].astype(str).str.split()\n",
    "    \n",
    "    all_positions = set()\n",
    "    for positions in positions_split.dropna():\n",
    "        if isinstance(positions, list):\n",
    "            all_positions.update(positions)\n",
    "    \n",
    "    all_positions.discard('nan')\n",
    "    \n",
    "    print(f\"Найдено уникальных позиций: {sorted(all_positions)}\")\n",
    "    \n",
    "    for position in sorted(all_positions):\n",
    "        df[f'position_{position.lower()}'] = positions_split.apply(\n",
    "            lambda x: 1 if isinstance(x, list) and position in x else 0\n",
    "        )\n",
    "    \n",
    "    # сохранить позиции как строку, разделенную запятыми для удобства\n",
    "    df['positions_formatted'] = df['positions'].astype(str).str.replace(' ', ',')\n",
    "    \n",
    "    print(\"Позиции преобразованы и созданы dummy переменные\")\n",
    "    print(\"Создан столбец 'positions_formatted' с позициями через запятую без пробелов (например: cm,st)\")"
   ]
  },
  {
   "cell_type": "code",
   "execution_count": null,
   "id": "bca9af88",
   "metadata": {},
   "outputs": [],
   "source": [
    "# преобразовать рост из футов и дюймов в сантиметры\n",
    "if 'height' in df.columns:\n",
    "    print(\"\\nПреобразование роста из футов и дюймов в сантиметры\")\n",
    "    def convert_height(height_str):\n",
    "        if pd.isna(height_str):\n",
    "            return np.nan\n",
    "        height_str = str(height_str).strip()\n",
    "        if \"'\" in height_str:\n",
    "            parts = height_str.replace('\"', '').split(\"'\")\n",
    "            if len(parts) == 2:\n",
    "                feet = int(parts[0])\n",
    "                inches = int(parts[1]) if parts[1] else 0\n",
    "                return feet * 30.48 + inches * 2.54\n",
    "        return np.nan\n",
    "    \n",
    "    df['height_cm'] = df['height'].apply(convert_height)\n",
    "    df = df.drop('height', axis=1)"
   ]
  },
  {
   "cell_type": "code",
   "execution_count": null,
   "id": "046e5bf1",
   "metadata": {},
   "outputs": [],
   "source": [
    "# преобразовать вес из фунтов в килограммы\n",
    "if 'weight' in df.columns:\n",
    "    print(\"\\nПреобразование веса из фунтов в килограммы\")\n",
    "    df['weight_kg'] = df['weight'].astype(str).str.extract('(\\d+)').astype(float) * 0.453592\n",
    "    df = df.drop('weight', axis=1)"
   ]
  },
  {
   "cell_type": "code",
   "execution_count": null,
   "id": "06e15acc",
   "metadata": {},
   "outputs": [],
   "source": [
    "# обработать звездные рейтинги и удалить звезды из определенных столбцов\n",
    "star_columns = [col for col in df.columns if '★' in str(col) or 'star' in str(col).lower()]\n",
    "for col in star_columns:\n",
    "    if col in df.columns:\n",
    "        print(f\"\\nИзвлечение числового значения из {col}\")\n",
    "        df[col] = df[col].astype(str).str.extract('(\\d+)').astype(float)"
   ]
  },
  {
   "cell_type": "code",
   "execution_count": null,
   "id": "377845ae",
   "metadata": {},
   "outputs": [],
   "source": [
    "# удалить звезды из столбцов w_f, ir, sm\n",
    "columns_to_clean_stars = ['w_f', 'ir', 'sm']\n",
    "for col in columns_to_clean_stars:\n",
    "    if col in df.columns:\n",
    "        print(f\"\\nУдаление звезд из столбца {col}\")\n",
    "        df[col] = df[col].astype(str).str.replace('★', '', regex=False).str.extract('(\\d+)').astype(float)\n",
    "        print(f\"Столбец {col} очищен от звезд\")"
   ]
  },
  {
   "cell_type": "code",
   "execution_count": null,
   "id": "67cdb0e7",
   "metadata": {},
   "outputs": [],
   "source": [
    "# удалить ненужные денежные столбцы, если они есть\n",
    "date_columns = ['joined', 'loan_date_end']\n",
    "for col in date_columns:\n",
    "    if col in df.columns:\n",
    "        print(f\"\\nПреобразование {col} в формат даты\")\n",
    "        try:\n",
    "            df[col] = pd.to_datetime(df[col], errors='coerce')\n",
    "        except:\n",
    "            print(f\"Невозможно преобразовать {col} в дату\")"
   ]
  },
  {
   "cell_type": "code",
   "execution_count": null,
   "id": "0f566c10",
   "metadata": {},
   "outputs": [],
   "source": [
    "# проверка на пропущенные значения\n",
    "print(\"\\nПроверка на пропущенные значения:\")\n",
    "missing_data = df.isnull().sum()\n",
    "missing_percentage = (missing_data / len(df)) * 100\n",
    "missing_info = pd.DataFrame({\n",
    "    'количество_пропусков': missing_data,\n",
    "    'процент_пропусков': missing_percentage\n",
    "})\n",
    "missing_info = missing_info[missing_info['количество_пропусков'] > 0]\n",
    "print(missing_info)"
   ]
  },
  {
   "cell_type": "code",
   "execution_count": null,
   "id": "a4e9aede",
   "metadata": {},
   "outputs": [],
   "source": [
    "if missing_info.empty:\n",
    "    print(\"Пропущенных значений не найдено\")\n",
    "else:\n",
    "    print(\"\\nОбработка пропущенных значений:\")\n",
    "    for col in missing_info.index:\n",
    "        missing_pct = missing_info.loc[col, 'процент_пропусков']\n",
    "        \n",
    "        if missing_pct <= 5:\n",
    "            if df[col].dtype in ['int64', 'float64', 'float32']:\n",
    "                if abs(df[col].skew()) > 1:\n",
    "                    fill_value = df[col].median()\n",
    "                    df[col].fillna(fill_value, inplace=True)\n",
    "                    print(f\"Заполнен {col} медианой: {fill_value:.2f} (данные имеют асимметричное распределение)\")\n",
    "                else:\n",
    "                    fill_value = df[col].mean()\n",
    "                    df[col].fillna(fill_value, inplace=True)\n",
    "                    print(f\"Заполнен {col} средним: {fill_value:.2f} (данные имеют нормальное распределение)\")\n",
    "            else:\n",
    "                fill_value = df[col].mode()[0] if not df[col].mode().empty else 'unknown'\n",
    "                df[col].fillna(fill_value, inplace=True)\n",
    "                print(f\"Заполнен {col} модой: {fill_value} (наиболее частое значение)\")\n",
    "        else:\n",
    "            print(f\"Столбец {col} имеет {missing_pct:.1f}% пропусков, требует индивидуального рассмотрения\")"
   ]
  },
  {
   "cell_type": "code",
   "execution_count": null,
   "id": "b76c209f",
   "metadata": {},
   "outputs": [],
   "source": [
    "# анализ и изменение типов данных\n",
    "for col in df.columns:\n",
    "    current_type = df[col].dtype\n",
    "    old_type = current_type\n",
    "    if col in ['age', 'ova', 'pot'] and current_type == 'object':\n",
    "        try:\n",
    "            df[col] = pd.to_numeric(df[col], errors='coerce')\n",
    "        except:\n",
    "            pass\n",
    "    elif current_type == 'object' and col not in ['positions_list']:\n",
    "        try:\n",
    "            unique_count = df[col].nunique()\n",
    "            if unique_count < 50:\n",
    "                df[col] = df[col].astype('category')\n",
    "        except TypeError:\n",
    "            pass\n",
    "    new_type = df[col].dtype\n",
    "    if old_type != new_type:\n",
    "        print(f\"Столбец '{col}' преобразован: {old_type} -> {new_type}\")"
   ]
  },
  {
   "cell_type": "code",
   "execution_count": null,
   "id": "f8d6222c",
   "metadata": {},
   "outputs": [],
   "source": [
    "# оптимизация типов данных\n",
    "for col in df.columns:\n",
    "    old_type = df[col].dtype\n",
    "    if df[col].dtype == 'int64':\n",
    "        if df[col].min() >= 0 and df[col].max() <= 255:\n",
    "            df[col] = df[col].astype('uint8')\n",
    "        elif df[col].min() >= 0 and df[col].max() <= 65535:\n",
    "            df[col] = df[col].astype('uint16')\n",
    "        elif df[col].min() >= -128 and df[col].max() <= 127:\n",
    "            df[col] = df[col].astype('int8')\n",
    "        elif df[col].min() >= -32768 and df[col].max() <= 32767:\n",
    "            df[col] = df[col].astype('int16')\n",
    "    elif df[col].dtype == 'float64':\n",
    "        if df[col].min() >= np.finfo(np.float32).min and df[col].max() <= np.finfo(np.float32).max:\n",
    "            df[col] = df[col].astype('float32')\n",
    "    new_type = df[col].dtype\n",
    "    if old_type != new_type:\n",
    "        print(f\"Столбец '{col}' оптимизирован: {old_type} -> {new_type}\")"
   ]
  },
  {
   "cell_type": "code",
   "execution_count": null,
   "id": "453a4892",
   "metadata": {},
   "outputs": [],
   "source": [
    "# проверка на дубликаты\n",
    "initial_shape = df.shape\n",
    "duplicates = df.duplicated()\n",
    "duplicate_count = duplicates.sum()"
   ]
  },
  {
   "cell_type": "code",
   "execution_count": null,
   "id": "daf1757f",
   "metadata": {},
   "outputs": [],
   "source": [
    "print(f\"\\nКоличество дубликатов: {duplicate_count}\")"
   ]
  },
  {
   "cell_type": "code",
   "execution_count": null,
   "id": "ac810409",
   "metadata": {},
   "outputs": [],
   "source": [
    "if duplicate_count > 0:\n",
    "    print(\"Примеры дубликатов:\")\n",
    "    print(df[duplicates].head())\n",
    "    \n",
    "    print(\"Возможные причины дубликатов:\")\n",
    "    print(\"Технические ошибки при сборе данных\")\n",
    "    print(\"Повторные записи об одном игроке\")\n",
    "    print(\"Ошибки в системе учета\")\n",
    "    \n",
    "    df_clean = df.drop_duplicates()\n",
    "    print(f\"Размер после удаления дубликатов: {df_clean.shape}\")\n",
    "    print(f\"Удалено строк: {initial_shape[0] - df_clean.shape[0]}\")\n",
    "else:\n",
    "    print(\"Дубликатов не найдено\")\n",
    "    df_clean = df.copy()"
   ]
  },
  {
   "cell_type": "code",
   "execution_count": null,
   "id": "d7d91a72",
   "metadata": {},
   "outputs": [],
   "source": [
    "# удалить ненужные денежные столбцы, если они есть\n",
    "columns_to_drop = ['value', 'wage', 'release_clause']\n",
    "df_clean = df_clean.drop(columns=columns_to_drop, errors='ignore')"
   ]
  },
  {
   "cell_type": "code",
   "execution_count": null,
   "id": "673e5618",
   "metadata": {},
   "outputs": [],
   "source": [
    "for col in ['joined', 'loan_date_end']:\n",
    "    if col in df_clean.columns:\n",
    "        df_clean[col] = pd.to_datetime(df_clean[col], errors='coerce')\n",
    "        print(f\"Столбец '{col}' преобразован в datetime: {df_clean[col].dtype}\")"
   ]
  },
  {
   "cell_type": "code",
   "execution_count": null,
   "id": "af1b23f2",
   "metadata": {},
   "outputs": [],
   "source": [
    "# итоговая статистика\n",
    "print(\"\\n\" + \"=\"*50)\n",
    "print(\"ИТОГОВАЯ СТАТИСТИКА\")\n",
    "print(\"=\"*50)\n",
    "print(f\"Исходный размер данных: {initial_shape}\")\n",
    "print(f\"Финальный размер данных: {df_clean.shape}\")\n",
    "print(f\"Удалено строк: {initial_shape[0] - df_clean.shape[0]}\")\n",
    "print(f\"Обработано столбцов: {len(df_clean.columns)}\")"
   ]
  },
  {
   "cell_type": "code",
   "execution_count": null,
   "id": "183a33ca",
   "metadata": {
    "lines_to_next_cell": 2
   },
   "outputs": [],
   "source": [
    "missing_percentage = (df_clean.isnull().sum().sum() / (df_clean.shape[0] * df_clean.shape[1])) * 100\n",
    "print(\"\\nКачество данных:\")\n",
    "print(f\"Процент пропущенных значений: {missing_percentage:.2f}%\")\n",
    "print(f\"Целостность данных: {100 - missing_percentage:.2f}%\")\n",
    "print(f\"Готовность к анализу: {'да' if missing_percentage < 1 else 'требует дополнительной обработки'}\")"
   ]
  },
  {
   "cell_type": "code",
   "execution_count": null,
   "id": "8f1b7f10",
   "metadata": {},
   "outputs": [],
   "source": [
    "# показать результат до и после\n",
    "print(\"\\n\" + \"=\"*50)\n",
    "print(\"СРАВНЕНИЕ ДО И ПОСЛЕ ОЧИСТКИ\")\n",
    "print(\"=\"*50)"
   ]
  },
  {
   "cell_type": "code",
   "execution_count": null,
   "id": "6d594d9b",
   "metadata": {},
   "outputs": [],
   "source": [
    "# загрузить исходные данные еще раз для сравнения\n",
    "df_original = pd.read_csv('players.csv', encoding='utf-8')\n",
    "print(\"СТОЛБЦЫ В df_original:\")\n",
    "print(df_original.columns.tolist())\n",
    "print(\"\\nПОСЛЕ ОЧИСТКИ\")\n",
    "print(\"Первые 3 строки очищенных данных:\")\n",
    "print(df_clean.head(3))"
   ]
  },
  {
   "cell_type": "code",
   "execution_count": null,
   "id": "41a64fd9",
   "metadata": {},
   "outputs": [],
   "source": [
    "print(\"\\nОСНОВНЫЕ ИЗМЕНЕНИЯ\")\n",
    "print(f\"1. Столбцы: {len(df_original.columns)} → {len(df_clean.columns)}\")\n",
    "print(f\"2. Строки: {len(df_original)} → {len(df_clean)}\")\n",
    "print(f\"3. Размер в памяти: {df_original.memory_usage(deep=True).sum() / 1024**2:.2f} MB → {df_clean.memory_usage(deep=True).sum() / 1024**2:.2f} MB\")"
   ]
  },
  {
   "cell_type": "code",
   "execution_count": null,
   "id": "07f7ee39",
   "metadata": {},
   "outputs": [],
   "source": [
    "if 'positions_formatted' in df_clean.columns:\n",
    "    print(f\"4. Позиции преобразованы (пример): {df_clean['positions_formatted'].dropna().iloc[0] if len(df_clean['positions_formatted'].dropna()) > 0 else 'нет данных'}\")"
   ]
  },
  {
   "cell_type": "code",
   "execution_count": null,
   "id": "f0a5e218",
   "metadata": {},
   "outputs": [],
   "source": [
    "if 'club_name' in df_clean.columns and 'contract_start_year' in df_clean.columns:\n",
    "    print(f\"5. team_and_contract разделен на club_name, contract_start_year, contract_end_year\")"
   ]
  },
  {
   "cell_type": "code",
   "execution_count": null,
   "id": "3abdd7e1",
   "metadata": {},
   "outputs": [],
   "source": [
    "# сохранение очищенных данных\n",
    "df_clean.to_csv('players_cleaned.csv', index=False)\n",
    "print(f\"Очищенные данные сохранены в 'players_cleaned.csv'\")"
   ]
  },
  {
   "cell_type": "code",
   "execution_count": null,
   "id": "e7b05e75",
   "metadata": {},
   "outputs": [],
   "source": [
    "# cоответствие новых столбцов их исходным столбцам в оригинальных данных (используются имена столбцов из исходного CSV)\n",
    "column_mapping = {\n",
    "    'club_name': 'Team & Contract',\n",
    "    'contract_start_year': 'Team & Contract',\n",
    "    'contract_end_year': 'Team & Contract',\n",
    "    'height_cm': 'Height',\n",
    "    'weight_kg': 'Weight',\n",
    "    'positions_formatted': 'Positions',\n",
    "}"
   ]
  },
  {
   "cell_type": "code",
   "execution_count": null,
   "id": "d50cd984",
   "metadata": {
    "lines_to_next_cell": 2
   },
   "outputs": [],
   "source": [
    "for col in ['Joined', 'Loan Date End']:\n",
    "    if col in df_clean.columns and col in df_original.columns:\n",
    "        column_mapping[col] = col"
   ]
  },
  {
   "cell_type": "code",
   "execution_count": null,
   "id": "acf2852c",
   "metadata": {},
   "outputs": [],
   "source": [
    "before_columns = []\n",
    "for col in df_original.columns:\n",
    "    if col in set(column_mapping.values()) and col not in before_columns:\n",
    "        before_columns.append(col)"
   ]
  },
  {
   "cell_type": "code",
   "execution_count": null,
   "id": "0b472da7",
   "metadata": {},
   "outputs": [],
   "source": [
    "after_columns = [col for col in column_mapping.keys() if col in df_clean.columns]"
   ]
  },
  {
   "cell_type": "code",
   "execution_count": null,
   "id": "cca4adb4",
   "metadata": {},
   "outputs": [],
   "source": [
    "print(\"\\n\")\n",
    "print(\"Сравнение последних 50 строк (только новые/структурно изменённые столбцы)\")"
   ]
  },
  {
   "cell_type": "code",
   "execution_count": null,
   "id": "6fce719f",
   "metadata": {},
   "outputs": [],
   "source": [
    "print(\"\\nдо очистки\")\n",
    "if before_columns:\n",
    "    before_cols_with_dtype = [f\"{col} ({df_original[col].dtype})\" for col in before_columns]\n",
    "    before_df = df_original[before_columns].tail(50).copy()\n",
    "    before_df.columns = before_cols_with_dtype\n",
    "    print(before_df)\n",
    "else:\n",
    "    print(\"нет исходных столбцов для сравнения.\")"
   ]
  },
  {
   "cell_type": "code",
   "execution_count": null,
   "id": "2a0536d0",
   "metadata": {
    "lines_to_next_cell": 2
   },
   "outputs": [],
   "source": [
    "print(\"\\nпосле очистки\")\n",
    "after_cols_with_dtype = [f\"{col} ({df_clean[col].dtype})\" for col in after_columns]\n",
    "after_df = df_clean[after_columns].tail(50).copy()\n",
    "after_df.columns = after_cols_with_dtype\n",
    "print(after_df)"
   ]
  },
  {
   "cell_type": "markdown",
   "id": "b059f44a",
   "metadata": {},
   "source": [
    "Решенные проблемы в данных (теперь в комментариях):\n",
    "1. Названия столбцов приведены к змеиному регистру и очищены от спецсимволов для единообразия и удобства обращения.\n",
    "2. Рост игроков преобразован из футов и дюймов в сантиметры (метрическая система, привычная для анализа в России).\n",
    "3. Вес игроков преобразован из фунтов в килограммы (метрическая система).\n",
    "4. Звездные рейтинги (★) и звездные значения в столбцах удалены и преобразованы в числовой формат для анализа.\n",
    "5. Столбцы с датами (например, joined) приведены к типу datetime для корректной работы с датами.\n",
    "6. Все текстовые данные (кроме имен игроков и ссылок) приведены к нижнему регистру и очищены от лишних пробелов.\n",
    "7. Пропущенные значения обработаны: заполнены средним, медианой или модой в зависимости от типа и распределения данных.\n",
    "8. Дубликаты строк удалены для обеспечения уникальности записей.\n",
    "9. Позиции игроков преобразованы: созданы dummy-переменные для каждой позиции, а также столбец positions_formatted без пробелов.\n",
    "10. Столбец 'team_and_contract' разделен на отдельные поля: club_name, contract_start_year, contract_end_year для удобства анализа контрактов.\n",
    "11. Типы данных оптимизированы (например, int64 → uint8/uint16, float64 → float32, object → category) для экономии памяти и ускорения вычислений.\n",
    "12. Данные готовы к дальнейшему анализу, визуализации и машинному обучению."
   ]
  }
 ],
 "metadata": {
  "jupytext": {
   "cell_metadata_filter": "-all",
   "main_language": "python",
   "notebook_metadata_filter": "-all"
  }
 },
 "nbformat": 4,
 "nbformat_minor": 5
}
