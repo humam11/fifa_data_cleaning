{
 "cells": [
  {
   "cell_type": "markdown",
   "id": "7c98f236",
   "metadata": {},
   "source": [
    "# Полный анализ FIFA 2021: очистка, исследование и статистика\n",
    "\n",
    "Этот ноутбук объединяет все этапы анализа данных по игрокам FIFA 2021:\n",
    "- **Очистка данных**: Загрузка, приведение в порядок названий столбцов, преобразование типов, обработка пропусков и дубликатов, создание новых признаков.\n",
    "- **Исследовательский анализ**: Фильтрация, сортировка, группировка данных и создание сводных таблиц для выявления ключевых закономерностей.\n",
    "- **Статистический анализ**: Расчет описательных статистик, корреляционный анализ, проверка гипотез и визуализация данных."
   ]
  },
  {
   "cell_type": "markdown",
   "id": "2b6015e2",
   "metadata": {},
   "source": [
    "## 1. Очистка данных (data_cleaning.py)"
   ]
  },
  {
   "cell_type": "code",
   "execution_count": null,
   "id": "b3e0a7f1",
   "metadata": {},
   "outputs": [],
   "source": [
    "import pandas as pd\n",
    "import numpy as np\n",
    "import warnings\n",
    "warnings.filterwarnings('ignore')\n",
    "\n",
    "pd.set_option('display.max_columns', None)\n",
    "pd.set_option('display.width', None)\n",
    "pd.set_option('display.max_colwidth', None)\n",
    "\n",
    "try:\n",
    "    df = pd.read_csv('players.csv', encoding='utf-8')\n",
    "    print(f'Данные успешно загружены. Исходный размер: {df.shape}')\n",
    "except Exception as e:\n",
    "    print(f'Ошибка при загрузке файла: {e}')"
   ]
  },
  {
   "cell_type": "markdown",
   "id": "e5f2a1c3",
   "metadata": {},
   "source": [
    "### 1.1. Преобразование названий столбцов и текстовых данных"
   ]
  },
  {
   "cell_type": "code",
   "execution_count": null,
   "id": "9419f259",
   "metadata": {},
   "outputs": [],
   "source": [
    "df.columns = (df.columns\n",
    "              .str.lower()\n",
    "              .str.replace(' ', '_')\n",
    "              .str.replace('-', '_')\n",
    "              .str.replace('&', 'and')\n",
    "              .str.replace('↓', '')\n",
    "              .str.replace('/', '_')\n",
    "              .str.replace('(', '')\n",
    "              .str.replace(')', '')\n",
    "              .str.strip('_'))\n",
    "\n",
    "print(\"Названия столбцов после приведения к змеиному регистру:\")\n",
    "print(df.columns.tolist())"
   ]
  },
  {
   "cell_type": "code",
   "execution_count": null,
   "id": "ec5495e7",
   "metadata": {},
   "outputs": [],
   "source": [
    "text_columns = df.select_dtypes(include=['object']).columns\n",
    "for col in text_columns:\n",
    "    if col not in ['id', 'playerurl', 'photourl', 'name', 'full_name']:\n",
    "        df[col] = df[col].astype(str).str.lower().str.strip()\n",
    "\n",
    "print(\"Текстовые данные приведены к нижнему регистру (кроме имен и ссылок).\")"
   ]
  },
  {
   "cell_type": "markdown",
   "id": "a9b4d1f8",
   "metadata": {},
   "source": [
    "### 1.2. Создание новых признаков и преобразование данных"
   ]
  },
  {
   "cell_type": "code",
   "execution_count": null,
   "id": "e97e3c97",
   "metadata": {},
   "outputs": [],
   "source": [
    "if 'team_and_contract' in df.columns:\n",
    "    def split_team_contract(value):\n",
    "        if pd.isna(value) or value == 'nan':\n",
    "            return pd.Series([np.nan, np.nan, np.nan])\n",
    "        value = str(value).strip()\n",
    "        lines = value.split('\\n')\n",
    "        if len(lines) >= 2:\n",
    "            team = lines[0].strip()\n",
    "            contract = lines[1].strip()\n",
    "            if '~' in contract:\n",
    "                years = contract.split('~')\n",
    "                if len(years) == 2:\n",
    "                    try:\n",
    "                        start_year = int(years[0].strip())\n",
    "                        end_year = int(years[1].strip())\n",
    "                    except ValueError:\n",
    "                        start_year = np.nan\n",
    "                        end_year = np.nan\n",
    "                    return pd.Series([team, start_year, end_year])\n",
    "            return pd.Series([team, np.nan, np.nan])\n",
    "        else:\n",
    "            return pd.Series([value, np.nan, np.nan])\n",
    "    \n",
    "    df[['club_name', 'contract_start_year', 'contract_end_year']] = df['team_and_contract'].apply(split_team_contract)\n",
    "    df = df.drop('team_and_contract', axis=1)\n",
    "    print('Столбец team_and_contract разделен на club_name, contract_start_year, contract_end_year')"
   ]
  },
  {
   "cell_type": "code",
   "execution_count": null,
   "id": "ad33e334",
   "metadata": {},
   "outputs": [],
   "source": [
    "if 'positions' in df.columns:\n",
    "    positions_split = df['positions'].astype(str).str.split()\n",
    "    all_positions = set()\n",
    "    for positions in positions_split.dropna():\n",
    "        if isinstance(positions, list):\n",
    "            all_positions.update(positions)\n",
    "    all_positions.discard('nan')\n",
    "    for position in sorted(all_positions):\n",
    "        df[f'position_{position.lower()}'] = positions_split.apply(\n",
    "            lambda x: 1 if isinstance(x, list) and position in x else 0\n",
    "        )\n",
    "    df['positions_formatted'] = df['positions'].astype(str).str.replace(' ', ',')\n",
    "    print('Позиции преобразованы: созданы dummy-переменные и столбец positions_formatted.')"
   ]
  },
  {
   "cell_type": "code",
   "execution_count": null,
   "id": "768b78a7",
   "metadata": {},
   "outputs": [],
   "source": [
    "if 'height' in df.columns:\n",
    "    def convert_height(height_str):\n",
    "        if pd.isna(height_str):\n",
    "            return np.nan\n",
    "        height_str = str(height_str).strip()\n",
    "        if \"'\" in height_str:\n",
    "            parts = height_str.replace('\"', '').split(\"'\")\n",
    "            if len(parts) == 2:\n",
    "                feet = int(parts[0])\n",
    "                inches = int(parts[1]) if parts[1] else 0\n",
    "                return feet * 30.48 + inches * 2.54\n",
    "        return np.nan\n",
    "    df['height_cm'] = df['height'].apply(convert_height)\n",
    "    df = df.drop('height', axis=1)\n",
    "    print('Рост преобразован из футов и дюймов в сантиметры.')"
   ]
  },
  {
   "cell_type": "code",
   "execution_count": null,
   "id": "65cca241",
   "metadata": {},
   "outputs": [],
   "source": [
    "if 'weight' in df.columns:\n",
    "    df['weight_kg'] = df['weight'].astype(str).str.extract('(\\d+)').astype(float) * 0.453592\n",
    "    df = df.drop('weight', axis=1)\n",
    "    print('Вес преобразован из фунтов в килограммы.')"
   ]
  },
  {
   "cell_type": "code",
   "execution_count": null,
   "id": "f2d1e8c9",
   "metadata": {},
   "outputs": [],
   "source": [
    "star_columns = [col for col in df.columns if '★' in str(col) or 'star' in str(col).lower()]\n",
    "for col in star_columns:\n",
    "    if col in df.columns:\n",
    "        df[col] = df[col].astype(str).str.extract('(\\d+)').astype(float)\n",
    "\n",
    "columns_to_clean_stars = ['w_f', 'ir', 'sm']\n",
    "for col in columns_to_clean_stars:\n",
    "    if col in df.columns:\n",
    "        df[col] = df[col].astype(str).str.replace('★', '', regex=False).str.extract('(\\d+)').astype(float)\n",
    "print('Звездные рейтинги (★) преобразованы в числовой формат.')"
   ]
  },
  {
   "cell_type": "markdown",
   "id": "bcf1d9a0",
   "metadata": {},
   "source": [
    "### 1.3. Обработка пропущенных значений и дубликатов"
   ]
  },
  {
   "cell_type": "code",
   "execution_count": null,
   "id": "a1715695",
   "metadata": {},
   "outputs": [],
   "source": [
    "missing_data = df.isnull().sum()\n",
    "missing_percentage = (missing_data / len(df)) * 100\n",
    "missing_info = pd.DataFrame({'количество_пропусков': missing_data, 'процент_пропусков': missing_percentage})\n",
    "missing_info = missing_info[missing_info['количество_пропусков'] > 0]\n",
    "print('Пропуски в данных до обработки:')\n",
    "print(missing_info)\n",
    "\n",
    "if not missing_info.empty:\n",
    "    print(\"\\nОбработка пропущенных значений...\")\n",
    "    for col in missing_info.index:\n",
    "        missing_pct = missing_info.loc[col, 'процент_пропусков']\n",
    "        if missing_pct <= 5:\n",
    "            if df[col].dtype in ['int64', 'float64', 'float32']:\n",
    "                if abs(df[col].skew()) > 1:\n",
    "                    fill_value = df[col].median()\n",
    "                    df[col].fillna(fill_value, inplace=True)\n",
    "                else:\n",
    "                    fill_value = df[col].mean()\n",
    "                    df[col].fillna(fill_value, inplace=True)\n",
    "            else:\n",
    "                fill_value = df[col].mode()[0] if not df[col].mode().empty else 'unknown'\n",
    "                df[col].fillna(fill_value, inplace=True)\n",
    "        else:\n",
    "            print(f\"Столбец {col} имеет {missing_pct:.1f}% пропусков, требует индивидуального рассмотрения.\")"
   ]
  },
  {
   "cell_type": "code",
   "execution_count": null,
   "id": "73e756b0",
   "metadata": {},
   "outputs": [],
   "source": [
    "initial_shape = df.shape\n",
    "duplicates = df.duplicated()\n",
    "duplicate_count = duplicates.sum()\n",
    "print(f\"\\nКоличество дубликатов: {duplicate_count}\")\n",
    "\n",
    "if duplicate_count > 0:\n",
    "    df = df.drop_duplicates()\n",
    "    print(f\"Дубликаты удалены. Размер после удаления: {df.shape}\")\n",
    "else:\n",
    "    print(\"Дубликатов не найдено.\")"
   ]
  },
  {
   "cell_type": "markdown",
   "id": "c0e3f5a1",
   "metadata": {},
   "source": [
    "### 1.4. Оптимизация типов данных и сохранение"
   ]
  },
  {
   "cell_type": "code",
   "execution_count": null,
   "id": "c1f2b3d4",
   "metadata": {},
   "outputs": [],
   "source": [
    "for col in df.columns:\n",
    "    old_type = df[col].dtype\n",
    "    if df[col].dtype == 'int64':\n",
    "        if df[col].min() >= 0 and df[col].max() <= 255:\n",
    "            df[col] = df[col].astype('uint8')\n",
    "    elif df[col].dtype == 'float64':\n",
    "        if df[col].min() >= np.finfo(np.float32).min and df[col].max() <= np.finfo(np.float32).max:\n",
    "            df[col] = df[col].astype('float32')\n",
    "    new_type = df[col].dtype\n",
    "    if old_type != new_type:\n",
    "        print(f\"Столбец '{col}' оптимизирован: {old_type} -> {new_type}\")\n",
    "\n",
    "columns_to_drop = ['value', 'wage', 'release_clause']\n",
    "df = df.drop(columns=columns_to_drop, errors='ignore')\n",
    "\n",
    "df.to_csv('players_cleaned.csv', index=False)\n",
    "print(f\"\\nОчищенные данные сохранены в 'players_cleaned.csv'. Финальный размер: {df.shape}\")"
   ]
  },
  {
   "cell_type": "markdown",
   "id": "18680978",
   "metadata": {},
   "source": [
    "## 2. Исследовательский анализ (EDA) (analiz-2.py)"
   ]
  },
  {
   "cell_type": "code",
   "execution_count": null,
   "id": "4c3c79ea",
   "metadata": {},
   "outputs": [],
   "source": [
    "import matplotlib.pyplot as plt\n",
    "import seaborn as sns\n",
    "\n",
    "plt.rcParams['font.family'] = ['DejaVu Sans']\n",
    "plt.rcParams['axes.unicode_minus'] = False\n",
    "\n",
    "try:\n",
    "    df = pd.read_csv('players_cleaned.csv')\n",
    "    print(f'Очищенные данные загружены. Размер датасета: {df.shape}')\n",
    "except FileNotFoundError:\n",
    "    print('Файл players_cleaned.csv не найден. Сначала выполните очистку данных.')\n",
    "    df = None"
   ]
  },
  {
   "cell_type": "markdown",
   "id": "f9a1b2c3",
   "metadata": {},
   "source": [
    "### 2.1. Индексация и фильтрация данных"
   ]
  },
  {
   "cell_type": "code",
   "execution_count": null,
   "id": "e4d5f6a7",
   "metadata": {},
   "outputs": [],
   "source": [
    "if df is not None:\n",
    "    print(\"1. Игроки с общим рейтингом выше 90:\")\n",
    "    high_rated = df[df['ova'] > 90]\n",
    "    print(high_rated[['longname', 'age', 'ova', 'pot', 'nationality']].head())\n",
    "\n",
    "    print(\"\\n2. Молодые игроки (до 20 лет) с потенциалом выше 85:\")\n",
    "    young_talents = df.query('age < 20 and pot > 85')\n",
    "    print(young_talents[['longname', 'age', 'ova', 'pot', 'nationality']].head())"
   ]
  },
  {
   "cell_type": "markdown",
   "id": "g9h2i3j4",
   "metadata": {},
   "source": [
    "### 2.2. Сортировка данных"
   ]
  },
  {
   "cell_type": "code",
   "execution_count": null,
   "id": "k5l6m7n8",
   "metadata": {},
   "outputs": [],
   "source": [
    "if df is not None:\n",
    "    print(\"Топ-10 игроков по общему рейтингу:\")\n",
    "    top_rated = df.sort_values('ova', ascending=False).head(10)\n",
    "    print(top_rated[['longname', 'age', 'ova', 'pot', 'nationality']])\n",
    "\n",
    "    print(\"\\nТоп-10 молодых игроков по потенциалу:\")\n",
    "    young_potential = df.sort_values('pot', ascending=False).head(10)\n",
    "    print(young_potential[['longname', 'age', 'ova', 'pot', 'nationality']])"
   ]
  },
  {
   "cell_type": "markdown",
   "id": "o9p0q1r2",
   "metadata": {},
   "source": [
    "### 2.3. Сводные таблицы и группировка"
   ]
  },
  {
   "cell_type": "code",
   "execution_count": null,
   "id": "s3t4u5v6",
   "metadata": {},
   "outputs": [],
   "source": [
    "if df is not None:\n",
    "    print(\"Сводная таблица 1: Средний рейтинг по топ-10 национальностям:\")\n",
    "    pivot1 = df.pivot_table(values='ova', index='nationality', aggfunc=['mean', 'count'])\n",
    "    pivot1.columns = ['Средний рейтинг', 'Количество игроков']\n",
    "    print(pivot1.sort_values('Средний рейтинг', ascending=False).head(10).round(2))\n",
    "\n",
    "    # Создаем категорию позиции для группировки\n",
    "    def categorize_position(pos):\n",
    "        if 'gk' in pos.lower(): return 'Вратарь'\n",
    "        elif any(x in pos.lower() for x in ['cb', 'lb', 'rb', 'wb']): return 'Защитник'\n",
    "        elif any(x in pos.lower() for x in ['cm', 'cdm', 'cam']): return 'Полузащитник'\n",
    "        elif any(x in pos.lower() for x in ['st', 'cf', 'lw', 'rw']): return 'Нападающий'\n",
    "        else: return 'Другое'\n",
    "    df['position_category'] = df['positions_formatted'].apply(categorize_position)\n",
    "\n",
    "    print(\"\\nГруппировка по категориям позиций:\")\n",
    "    position_stats = df.groupby('position_category').agg(\n",
    "        {'ova': 'mean', 'height_cm': 'mean', 'weight_kg': 'mean', 'sprint_speed': 'mean'}\n",
    "    ).round(2)\n",
    "    print(position_stats)"
   ]
  },
  {
   "cell_type": "markdown",
   "id": "w7x8y9z0",
   "metadata": {},
   "source": [
    "### 2.4. Анализ потенциального роста"
   ]
  },
  {
   "cell_type": "code",
   "execution_count": null,
   "id": "a1b2c3d4",
   "metadata": {},
   "outputs": [],
   "source": [
    "if df is not None:\n",
    "    df['potential_growth'] = df['pot'] - df['ova']\n",
    "    print(f\"Средний рост потенциала: {df['potential_growth'].mean():.2f}\")\n",
    "    print(\"Игроки с наибольшим потенциалом роста:\")\n",
    "    growth_players = df.nlargest(10, 'potential_growth')\n",
    "    print(growth_players[['longname', 'age', 'ova', 'pot', 'nationality', 'potential_growth']])"
   ]
  },
  {
   "cell_type": "markdown",
   "id": "bbf208fe",
   "metadata": {},
   "source": [
    "## 3. Статистический анализ (statistical_analysis.py)"
   ]
  },
  {
   "cell_type": "markdown",
   "id": "e5f6g7h8",
   "metadata": {},
   "source": [
    "### 3.1. Основные статистические показатели"
   ]
  },
  {
   "cell_type": "code",
   "execution_count": null,
   "id": "i9j0k1l2",
   "metadata": {},
   "outputs": [],
   "source": [
    "if df is not None:\n",
    "    key_numeric_columns = [\n",
    "        'age', 'ova', 'pot', 'height_cm', 'weight_kg', 'sprint_speed', \n",
    "        'dribbling', 'shot_power', 'short_passing', 'stamina', 'reactions'\n",
    "    ]\n",
    "    key_numeric_columns = [col for col in key_numeric_columns if col in df.columns]\n",
    "    print(\"Основные статистические показатели по ключевым признакам:\")\n",
    "    print(df[key_numeric_columns].describe().round(2))"
   ]
  },
  {
   "cell_type": "markdown",
   "id": "m3n4o5p6",
   "metadata": {},
   "source": [
    "### 3.2. Корреляционный анализ"
   ]
  },
  {
   "cell_type": "code",
   "execution_count": null,
   "id": "7ea697bf",
   "metadata": {},
   "outputs": [],
   "source": [
    "if df is not None:\n",
    "    numeric_cols = df.select_dtypes(include=[np.number]).columns\n",
    "    corr_matrix = df[numeric_cols].corr()\n",
    "    \n",
    "    print(\"Топ-10 корреляций с общим рейтингом (ova):\")\n",
    "    ova_correlations = corr_matrix['ova'].sort_values(ascending=False)\n",
    "    print(ova_correlations.head(11).round(3))\n",
    "    \n",
    "    plt.figure(figsize=(12, 9))\n",
    "    sns.heatmap(corr_matrix, annot=False, cmap='coolwarm')\n",
    "    plt.title('Корреляционная матрица числовых признаков')\n",
    "    plt.show()"
   ]
  },
  {
   "cell_type": "markdown",
   "id": "q7r8s9t0",
   "metadata": {},
   "source": [
    "### 3.3. Визуализация распределений"
   ]
  },
  {
   "cell_type": "code",
   "execution_count": null,
   "id": "u1v2w3x4",
   "metadata": {},
   "outputs": [],
   "source": [
    "if df is not None:\n",
    "    fig, axes = plt.subplots(2, 3, figsize=(18, 10))\n",
    "    fig.suptitle('Распределения ключевых числовых признаков', fontsize=16)\n",
    "\n",
    "    key_features = ['age', 'ova', 'height_cm', 'sprint_speed', 'dribbling', 'stamina']\n",
    "    titles = ['Возраст', 'Общий рейтинг', 'Рост (см)', 'Скорость', 'Дриблинг', 'Выносливость']\n",
    "\n",
    "    for i, (feature, title) in enumerate(zip(key_features, titles)):\n",
    "        row, col = i // 3, i % 3\n",
    "        sns.histplot(df[feature], bins=30, kde=True, ax=axes[row, col], color='skyblue')\n",
    "        axes[row, col].set_title(f'Распределение: {title}')\n",
    "        axes[row, col].axvline(df[feature].mean(), color='red', linestyle='--', label=f'Среднее: {df[feature].mean():.1f}')\n",
    "        axes[row, col].legend()\n",
    "\n",
    "    plt.tight_layout(rect=[0, 0, 1, 0.96])\n",
    "    plt.show()"
   ]
  },
  {
   "cell_type": "markdown",
   "id": "y5z6a7b8",
   "metadata": {},
   "source": [
    "### 3.4. Проверка статистических гипотез"
   ]
  },
  {
   "cell_type": "code",
   "execution_count": null,
   "id": "1697f5ce",
   "metadata": {},
   "outputs": [],
   "source": [
    "from scipy.stats import ttest_ind, chi2_contingency\n",
    "\n",
    "if df is not None:\n",
    "    # Гипотеза 1: Средний рейтинг молодых игроков (до 25 лет) отличается от опытных (25+)\n",
    "    young_players = df[df['age'] < 25]['ova']\n",
    "    experienced_players = df[df['age'] >= 25]['ova']\n",
    "    t_stat, p_value = ttest_ind(young_players, experienced_players)\n",
    "    print(f\"Т-тест (рейтинг молодых vs опытных): t-статистика = {t_stat:.2f}, p-значение = {p_value:.5f}\")\n",
    "    if p_value < 0.05:\n",
    "        print(\"Результат: Отклоняем нулевую гипотезу. Средние рейтинги статистически значимо различаются.\")\n",
    "    else:\n",
    "        print(\"Результат: Не отклоняем нулевую гипотезу.\")\n",
    "\n",
    "    # Гипотеза 2: Возраст и рейтинг являются зависимыми переменными\n",
    "    df['age_group'] = pd.cut(df['age'], bins=[0, 20, 25, 30, 35, 100], labels=['До 20', '20-25', '25-30', '30-35', '35+'])\n",
    "    df['rating_group'] = pd.cut(df['ova'], bins=[0, 60, 70, 80, 85, 100], labels=['До 60', '60-70', '70-80', '80-85', '85+'])\n",
    "    contingency_table = pd.crosstab(df['age_group'], df['rating_group'])\n",
    "    chi2, p_val, dof, expected = chi2_contingency(contingency_table)\n",
    "    print(f\"\\nХи-квадрат тест (возраст и рейтинг): chi2 = {chi2:.2f}, p-значение = {p_val:.5f}\")\n",
    "    if p_val < 0.05:\n",
    "        print(\"Результат: Отклоняем нулевую гипотезу. Возрастные группы и группы рейтинга зависимы.\")\n",
    "    else:\n",
    "        print(\"Результат: Не отклоняем нулевую гипотезу.\")"
   ]
  }
 ],
 "metadata": {
  "kernelspec": {
   "display_name": "Python 3",
   "language": "python",
   "name": "python3"
  },
  "language_info": {
   "name": "python",
   "version": "3.8"
  }
 },
 "nbformat": 4,
 "nbformat_minor": 5
}